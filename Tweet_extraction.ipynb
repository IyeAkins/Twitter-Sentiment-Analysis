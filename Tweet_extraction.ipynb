{
 "cells": [
  {
   "cell_type": "code",
   "execution_count": 64,
   "metadata": {},
   "outputs": [],
   "source": [
    "import numpy as np\n",
    "import pandas as pd\n",
    "import seaborn\n",
    "import matplotlib\n",
    "import sklearn\n",
    "import tweepy\n",
    "import datetime\n",
    "import time\n",
    "from datetime import date, time"
   ]
  },
  {
   "cell_type": "code",
   "execution_count": 2,
   "metadata": {},
   "outputs": [],
   "source": [
    "consumer_key = \"cnozir0mgB4Zmm7IoqzgAQS73\"\n",
    "consumer_secret = \"3xqlSgReZhaslX1yOdHG6TPtHeJcdHv3tV3emC7yB00ws31Fgy\"\n",
    "access_token = \"1318272721382420480-wxe96w4m5cCJ4PdTIFxiaG3nhSusiG\"\n",
    "access_token_secret = \"hdBskXriKoiBuM45XboiZtjQteGaQ2bYQ4FtQAF5a71ae\"\n",
    "auth = tweepy.OAuthHandler(consumer_key, consumer_secret)\n",
    "auth.set_access_token(access_token, access_token_secret)\n",
    "api = tweepy.API(auth,wait_on_rate_limit=True)"
   ]
  },
  {
   "cell_type": "code",
   "execution_count": 56,
   "metadata": {},
   "outputs": [
    {
     "name": "stderr",
     "output_type": "stream",
     "text": [
      "/var/folders/ky/pppgn1c56574xq6qr4rk8vnr0000gn/T/ipykernel_717/1173433489.py:10: FutureWarning: The frame.append method is deprecated and will be removed from pandas in a future version. Use pandas.concat instead.\n",
      "  tweets_df = tweets_df.append(k_tweets_df,ignore_index=True)\n"
     ]
    },
    {
     "data": {
      "text/html": [
       "<div>\n",
       "<style scoped>\n",
       "    .dataframe tbody tr th:only-of-type {\n",
       "        vertical-align: middle;\n",
       "    }\n",
       "\n",
       "    .dataframe tbody tr th {\n",
       "        vertical-align: top;\n",
       "    }\n",
       "\n",
       "    .dataframe thead th {\n",
       "        text-align: right;\n",
       "    }\n",
       "</style>\n",
       "<table border=\"1\" class=\"dataframe\">\n",
       "  <thead>\n",
       "    <tr style=\"text-align: right;\">\n",
       "      <th></th>\n",
       "      <th>Tweet</th>\n",
       "      <th>Tweet ID</th>\n",
       "      <th>Number of Likes</th>\n",
       "      <th>Number of Retweets</th>\n",
       "      <th>Date</th>\n",
       "      <th>Time</th>\n",
       "    </tr>\n",
       "  </thead>\n",
       "  <tbody>\n",
       "    <tr>\n",
       "      <th>0</th>\n",
       "      <td>BREAKING: Arise TV fact checkers has published...</td>\n",
       "      <td>1599510235890462720</td>\n",
       "      <td>12105</td>\n",
       "      <td>5393</td>\n",
       "      <td>2022-12-04</td>\n",
       "      <td>21:05:32</td>\n",
       "    </tr>\n",
       "    <tr>\n",
       "      <th>1</th>\n",
       "      <td>Quranic proficiency suggests northern kids are...</td>\n",
       "      <td>1599490897745514498</td>\n",
       "      <td>9108</td>\n",
       "      <td>3089</td>\n",
       "      <td>2022-12-04</td>\n",
       "      <td>19:48:41</td>\n",
       "    </tr>\n",
       "    <tr>\n",
       "      <th>2</th>\n",
       "      <td>Peter Obi: The market price for Garri is now 2...</td>\n",
       "      <td>1599694151787782144</td>\n",
       "      <td>7581</td>\n",
       "      <td>1728</td>\n",
       "      <td>2022-12-05</td>\n",
       "      <td>09:16:21</td>\n",
       "    </tr>\n",
       "    <tr>\n",
       "      <th>3</th>\n",
       "      <td>Peter Obi performed excellently in education. ...</td>\n",
       "      <td>1599674908329783296</td>\n",
       "      <td>1538</td>\n",
       "      <td>673</td>\n",
       "      <td>2022-12-05</td>\n",
       "      <td>07:59:53</td>\n",
       "    </tr>\n",
       "    <tr>\n",
       "      <th>4</th>\n",
       "      <td>You can’t have 33% unemployment in a country o...</td>\n",
       "      <td>1599481430807302144</td>\n",
       "      <td>3868</td>\n",
       "      <td>1405</td>\n",
       "      <td>2022-12-04</td>\n",
       "      <td>19:11:04</td>\n",
       "    </tr>\n",
       "  </tbody>\n",
       "</table>\n",
       "</div>"
      ],
      "text/plain": [
       "                                               Tweet             Tweet ID  \\\n",
       "0  BREAKING: Arise TV fact checkers has published...  1599510235890462720   \n",
       "1  Quranic proficiency suggests northern kids are...  1599490897745514498   \n",
       "2  Peter Obi: The market price for Garri is now 2...  1599694151787782144   \n",
       "3  Peter Obi performed excellently in education. ...  1599674908329783296   \n",
       "4  You can’t have 33% unemployment in a country o...  1599481430807302144   \n",
       "\n",
       "   Number of Likes  Number of Retweets        Date      Time  \n",
       "0            12105                5393  2022-12-04  21:05:32  \n",
       "1             9108                3089  2022-12-04  19:48:41  \n",
       "2             7581                1728  2022-12-05  09:16:21  \n",
       "3             1538                 673  2022-12-05  07:59:53  \n",
       "4             3868                1405  2022-12-04  19:11:04  "
      ]
     },
     "execution_count": 56,
     "metadata": {},
     "output_type": "execute_result"
    }
   ],
   "source": [
    "text_query = ['nigeria or nigerian politics','labour party or LP', 'Peter Obi', 'Tinubu', 'PDP', 'APC', 'Buhari', '2023 Election', 'PVC', 'INEC']\n",
    "count = 500\n",
    "\n",
    "tweets_df = pd.DataFrame()\n",
    "\n",
    "for keyword in text_query:\n",
    "    tweets = tweepy.Cursor(api.search_tweets,q=keyword+\" -filter:retweets\", result_type = 'popular', tweet_mode='extended').items(count) #Don't forget to adjust the result_type\n",
    "    tweets_list = [[tweet.created_at, tweet.full_text, tweet.id, tweet.favorite_count, tweet.retweet_count] for tweet in tweets]\n",
    "    k_tweets_df = pd.DataFrame(tweets_list)\n",
    "    tweets_df = tweets_df.append(k_tweets_df,ignore_index=True)\n",
    "\n",
    "tweets_df.rename(columns = {1:'Tweet', 2:'Tweet ID',\n",
    "                              3:'Number of Likes', 4:'Number of Retweets'}, inplace = True)\n",
    "\n",
    "\n",
    "tweets_df['Date'] = pd.to_datetime(tweets_df[0]).dt.date\n",
    "tweets_df['Time'] = pd.to_datetime(tweets_df[0]).dt.time\n",
    "tweets_df.sort_values(by=0,ascending=False)\n",
    "tweets_df.drop(0, inplace=True, axis=1)\n",
    "tweets_df.drop_duplicates(inplace=True, ignore_index=True)\n",
    "\n",
    "\n",
    "tweets_df.head()\n",
    "\n",
    "   "
   ]
  },
  {
   "cell_type": "code",
   "execution_count": 57,
   "metadata": {},
   "outputs": [
    {
     "name": "stdout",
     "output_type": "stream",
     "text": [
      "<class 'pandas.core.frame.DataFrame'>\n",
      "RangeIndex: 260 entries, 0 to 259\n",
      "Data columns (total 6 columns):\n",
      " #   Column              Non-Null Count  Dtype \n",
      "---  ------              --------------  ----- \n",
      " 0   Tweet               260 non-null    object\n",
      " 1   Tweet ID            260 non-null    int64 \n",
      " 2   Number of Likes     260 non-null    int64 \n",
      " 3   Number of Retweets  260 non-null    int64 \n",
      " 4   Date                260 non-null    object\n",
      " 5   Time                260 non-null    object\n",
      "dtypes: int64(3), object(3)\n",
      "memory usage: 12.3+ KB\n"
     ]
    }
   ],
   "source": [
    "tweets_df.info()"
   ]
  },
  {
   "cell_type": "code",
   "execution_count": 54,
   "metadata": {},
   "outputs": [],
   "source": [
    "new_tweets_df = tweets_df.copy()"
   ]
  },
  {
   "cell_type": "code",
   "execution_count": 58,
   "metadata": {},
   "outputs": [
    {
     "name": "stderr",
     "output_type": "stream",
     "text": [
      "/var/folders/ky/pppgn1c56574xq6qr4rk8vnr0000gn/T/ipykernel_717/1099953655.py:1: FutureWarning: The frame.append method is deprecated and will be removed from pandas in a future version. Use pandas.concat instead.\n",
      "  new_tweets_df = new_tweets_df.append(tweets_df,ignore_index=True)\n"
     ]
    }
   ],
   "source": [
    "new_tweets_df = new_tweets_df.append(tweets_df,ignore_index=True)"
   ]
  },
  {
   "cell_type": "code",
   "execution_count": 81,
   "metadata": {},
   "outputs": [
    {
     "name": "stdout",
     "output_type": "stream",
     "text": [
      "<class 'pandas.core.frame.DataFrame'>\n",
      "RangeIndex: 3278 entries, 0 to 3277\n",
      "Data columns (total 7 columns):\n",
      " #   Column              Non-Null Count  Dtype         \n",
      "---  ------              --------------  -----         \n",
      " 0   Tweet               3278 non-null   object        \n",
      " 1   Tweet ID            3278 non-null   int64         \n",
      " 2   Number of Likes     3278 non-null   int64         \n",
      " 3   Number of Retweets  3278 non-null   int64         \n",
      " 4   Date                3278 non-null   object        \n",
      " 5   Time                3278 non-null   object        \n",
      " 6   Datetime            3278 non-null   datetime64[ns]\n",
      "dtypes: datetime64[ns](1), int64(3), object(3)\n",
      "memory usage: 179.4+ KB\n"
     ]
    }
   ],
   "source": [
    "new_tweets_df.info()"
   ]
  },
  {
   "cell_type": "code",
   "execution_count": 60,
   "metadata": {},
   "outputs": [
    {
     "data": {
      "text/plain": [
       "0"
      ]
     },
     "execution_count": 60,
     "metadata": {},
     "output_type": "execute_result"
    }
   ],
   "source": [
    "new_tweets_df.duplicated().sum()"
   ]
  },
  {
   "cell_type": "code",
   "execution_count": 82,
   "metadata": {},
   "outputs": [
    {
     "data": {
      "text/html": [
       "<div>\n",
       "<style scoped>\n",
       "    .dataframe tbody tr th:only-of-type {\n",
       "        vertical-align: middle;\n",
       "    }\n",
       "\n",
       "    .dataframe tbody tr th {\n",
       "        vertical-align: top;\n",
       "    }\n",
       "\n",
       "    .dataframe thead th {\n",
       "        text-align: right;\n",
       "    }\n",
       "</style>\n",
       "<table border=\"1\" class=\"dataframe\">\n",
       "  <thead>\n",
       "    <tr style=\"text-align: right;\">\n",
       "      <th></th>\n",
       "      <th>Tweet</th>\n",
       "      <th>Tweet ID</th>\n",
       "      <th>Number of Likes</th>\n",
       "      <th>Number of Retweets</th>\n",
       "      <th>Date</th>\n",
       "      <th>Time</th>\n",
       "      <th>Datetime</th>\n",
       "    </tr>\n",
       "  </thead>\n",
       "  <tbody>\n",
       "    <tr>\n",
       "      <th>0</th>\n",
       "      <td>@benmurraybruce @ruffydfire I noticed the kind...</td>\n",
       "      <td>1599880220621737984</td>\n",
       "      <td>0</td>\n",
       "      <td>0</td>\n",
       "      <td>2022-12-05</td>\n",
       "      <td>21:35:43</td>\n",
       "      <td>2022-12-05 21:35:43</td>\n",
       "    </tr>\n",
       "    <tr>\n",
       "      <th>1</th>\n",
       "      <td>This is a good time to be alive, like it or no...</td>\n",
       "      <td>1599839158695968768</td>\n",
       "      <td>0</td>\n",
       "      <td>0</td>\n",
       "      <td>2022-12-05</td>\n",
       "      <td>18:52:33</td>\n",
       "      <td>2022-12-05 18:52:33</td>\n",
       "    </tr>\n",
       "    <tr>\n",
       "      <th>2</th>\n",
       "      <td>@JeffreyGuterman What an impudence, what do yo...</td>\n",
       "      <td>1599689920305512448</td>\n",
       "      <td>0</td>\n",
       "      <td>0</td>\n",
       "      <td>2022-12-05</td>\n",
       "      <td>08:59:32</td>\n",
       "      <td>2022-12-05 08:59:32</td>\n",
       "    </tr>\n",
       "    <tr>\n",
       "      <th>3</th>\n",
       "      <td>@renoomokri That is why Nigerian politics is a...</td>\n",
       "      <td>1599604827675303936</td>\n",
       "      <td>0</td>\n",
       "      <td>0</td>\n",
       "      <td>2022-12-05</td>\n",
       "      <td>03:21:24</td>\n",
       "      <td>2022-12-05 03:21:24</td>\n",
       "    </tr>\n",
       "    <tr>\n",
       "      <th>4</th>\n",
       "      <td>@SavvyRinu @benmurraybruce @ruffydfire Nigeria...</td>\n",
       "      <td>1599359252937658368</td>\n",
       "      <td>3</td>\n",
       "      <td>0</td>\n",
       "      <td>2022-12-04</td>\n",
       "      <td>11:05:35</td>\n",
       "      <td>2022-12-04 11:05:35</td>\n",
       "    </tr>\n",
       "    <tr>\n",
       "      <th>...</th>\n",
       "      <td>...</td>\n",
       "      <td>...</td>\n",
       "      <td>...</td>\n",
       "      <td>...</td>\n",
       "      <td>...</td>\n",
       "      <td>...</td>\n",
       "      <td>...</td>\n",
       "    </tr>\n",
       "    <tr>\n",
       "      <th>3273</th>\n",
       "      <td>INEC’ll Reproduce Burnt PVCs, Attacks Can’t St...</td>\n",
       "      <td>1597555562728017927</td>\n",
       "      <td>299</td>\n",
       "      <td>86</td>\n",
       "      <td>2022-11-29</td>\n",
       "      <td>11:38:21</td>\n",
       "      <td>2022-11-29 11:38:21</td>\n",
       "    </tr>\n",
       "    <tr>\n",
       "      <th>3274</th>\n",
       "      <td>Breaking News: INEC has fixed Monday 12th Dece...</td>\n",
       "      <td>1598789848768385063</td>\n",
       "      <td>416</td>\n",
       "      <td>124</td>\n",
       "      <td>2022-12-02</td>\n",
       "      <td>21:22:58</td>\n",
       "      <td>2022-12-02 21:22:58</td>\n",
       "    </tr>\n",
       "    <tr>\n",
       "      <th>3275</th>\n",
       "      <td>Over 150,000 PVCs remain unclaimed in Niger, I...</td>\n",
       "      <td>1596868805048901632</td>\n",
       "      <td>25</td>\n",
       "      <td>19</td>\n",
       "      <td>2022-11-27</td>\n",
       "      <td>14:09:26</td>\n",
       "      <td>2022-11-27 14:09:26</td>\n",
       "    </tr>\n",
       "    <tr>\n",
       "      <th>3276</th>\n",
       "      <td>PRESS RELEASE\\n2023 GENERAL ELECTIONS: IGP ORD...</td>\n",
       "      <td>1596888729439948803</td>\n",
       "      <td>213</td>\n",
       "      <td>47</td>\n",
       "      <td>2022-11-27</td>\n",
       "      <td>15:28:36</td>\n",
       "      <td>2022-11-27 15:28:36</td>\n",
       "    </tr>\n",
       "    <tr>\n",
       "      <th>3277</th>\n",
       "      <td>INEC's Dirty Apparel, By Bright Okuta | Sahara...</td>\n",
       "      <td>1596765374372249600</td>\n",
       "      <td>112</td>\n",
       "      <td>25</td>\n",
       "      <td>2022-11-27</td>\n",
       "      <td>07:18:26</td>\n",
       "      <td>2022-11-27 07:18:26</td>\n",
       "    </tr>\n",
       "  </tbody>\n",
       "</table>\n",
       "<p>3278 rows × 7 columns</p>\n",
       "</div>"
      ],
      "text/plain": [
       "                                                  Tweet             Tweet ID  \\\n",
       "0     @benmurraybruce @ruffydfire I noticed the kind...  1599880220621737984   \n",
       "1     This is a good time to be alive, like it or no...  1599839158695968768   \n",
       "2     @JeffreyGuterman What an impudence, what do yo...  1599689920305512448   \n",
       "3     @renoomokri That is why Nigerian politics is a...  1599604827675303936   \n",
       "4     @SavvyRinu @benmurraybruce @ruffydfire Nigeria...  1599359252937658368   \n",
       "...                                                 ...                  ...   \n",
       "3273  INEC’ll Reproduce Burnt PVCs, Attacks Can’t St...  1597555562728017927   \n",
       "3274  Breaking News: INEC has fixed Monday 12th Dece...  1598789848768385063   \n",
       "3275  Over 150,000 PVCs remain unclaimed in Niger, I...  1596868805048901632   \n",
       "3276  PRESS RELEASE\\n2023 GENERAL ELECTIONS: IGP ORD...  1596888729439948803   \n",
       "3277  INEC's Dirty Apparel, By Bright Okuta | Sahara...  1596765374372249600   \n",
       "\n",
       "      Number of Likes  Number of Retweets        Date      Time  \\\n",
       "0                   0                   0  2022-12-05  21:35:43   \n",
       "1                   0                   0  2022-12-05  18:52:33   \n",
       "2                   0                   0  2022-12-05  08:59:32   \n",
       "3                   0                   0  2022-12-05  03:21:24   \n",
       "4                   3                   0  2022-12-04  11:05:35   \n",
       "...               ...                 ...         ...       ...   \n",
       "3273              299                  86  2022-11-29  11:38:21   \n",
       "3274              416                 124  2022-12-02  21:22:58   \n",
       "3275               25                  19  2022-11-27  14:09:26   \n",
       "3276              213                  47  2022-11-27  15:28:36   \n",
       "3277              112                  25  2022-11-27  07:18:26   \n",
       "\n",
       "                Datetime  \n",
       "0    2022-12-05 21:35:43  \n",
       "1    2022-12-05 18:52:33  \n",
       "2    2022-12-05 08:59:32  \n",
       "3    2022-12-05 03:21:24  \n",
       "4    2022-12-04 11:05:35  \n",
       "...                  ...  \n",
       "3273 2022-11-29 11:38:21  \n",
       "3274 2022-12-02 21:22:58  \n",
       "3275 2022-11-27 14:09:26  \n",
       "3276 2022-11-27 15:28:36  \n",
       "3277 2022-11-27 07:18:26  \n",
       "\n",
       "[3278 rows x 7 columns]"
      ]
     },
     "execution_count": 82,
     "metadata": {},
     "output_type": "execute_result"
    }
   ],
   "source": [
    "new_tweets_df"
   ]
  },
  {
   "cell_type": "code",
   "execution_count": 79,
   "metadata": {},
   "outputs": [],
   "source": [
    "new_tweets_df[\"Datetime\"] = new_tweets_df['Date'].astype(str) +\" \"+ new_tweets_df[\"Time\"].astype(str)"
   ]
  },
  {
   "cell_type": "code",
   "execution_count": 76,
   "metadata": {},
   "outputs": [],
   "source": [
    "new_tweets_df['Date'] = new_tweets_df['Date'].astype(str)"
   ]
  },
  {
   "cell_type": "code",
   "execution_count": 69,
   "metadata": {},
   "outputs": [],
   "source": [
    "new_tweets_df['Date'] =  pd.to_datetime(new_tweets_df['Date'])"
   ]
  },
  {
   "cell_type": "code",
   "execution_count": 80,
   "metadata": {},
   "outputs": [],
   "source": [
    "new_tweets_df['Datetime'] =  pd.to_datetime(new_tweets_df['Datetime'])"
   ]
  },
  {
   "cell_type": "code",
   "execution_count": 85,
   "metadata": {},
   "outputs": [],
   "source": [
    "new_tweets_df.sort_values(by='Datetime',ascending=False, inplace=True, ignore_index=True)"
   ]
  },
  {
   "cell_type": "code",
   "execution_count": 89,
   "metadata": {},
   "outputs": [
    {
     "name": "stdout",
     "output_type": "stream",
     "text": [
      "<class 'pandas.core.frame.DataFrame'>\n",
      "Int64Index: 3278 entries, 2650 to 3100\n",
      "Data columns (total 6 columns):\n",
      " #   Column              Non-Null Count  Dtype \n",
      "---  ------              --------------  ----- \n",
      " 0   Tweet               3278 non-null   object\n",
      " 1   Tweet ID            3278 non-null   int64 \n",
      " 2   Number of Likes     3278 non-null   int64 \n",
      " 3   Number of Retweets  3278 non-null   int64 \n",
      " 4   Date                3278 non-null   object\n",
      " 5   Time                3278 non-null   object\n",
      "dtypes: int64(3), object(3)\n",
      "memory usage: 179.3+ KB\n"
     ]
    }
   ],
   "source": [
    "new_tweets_df.info()"
   ]
  },
  {
   "cell_type": "code",
   "execution_count": 95,
   "metadata": {},
   "outputs": [],
   "source": [
    "new_tweets_df.to_csv('tweets.csv')"
   ]
  }
 ],
 "metadata": {
  "kernelspec": {
   "display_name": "Python 3.11.0 64-bit",
   "language": "python",
   "name": "python3"
  },
  "language_info": {
   "codemirror_mode": {
    "name": "ipython",
    "version": 3
   },
   "file_extension": ".py",
   "mimetype": "text/x-python",
   "name": "python",
   "nbconvert_exporter": "python",
   "pygments_lexer": "ipython3",
   "version": "3.11.0"
  },
  "orig_nbformat": 4,
  "vscode": {
   "interpreter": {
    "hash": "aee8b7b246df8f9039afb4144a1f6fd8d2ca17a180786b69acc140d282b71a49"
   }
  }
 },
 "nbformat": 4,
 "nbformat_minor": 2
}
